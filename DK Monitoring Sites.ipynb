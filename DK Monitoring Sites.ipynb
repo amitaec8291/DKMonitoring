{
 "cells": [
  {
   "cell_type": "code",
   "execution_count": 0,
   "metadata": {
    "application/vnd.databricks.v1+cell": {
     "cellMetadata": {
      "byteLimit": 2048000,
      "rowLimit": 10000
     },
     "inputWidgets": {},
     "nuid": "49d16dd5-1d4c-4c11-aca1-f5e55b2fc5b5",
     "showTitle": false,
     "title": ""
    }
   },
   "outputs": [
    {
     "output_type": "stream",
     "name": "stdout",
     "output_type": "stream",
     "text": [
      "\u001B[43mNote: you may need to restart the kernel using dbutils.library.restartPython() to use updated packages.\u001B[0m\nCollecting xmltodict\n  Downloading xmltodict-0.13.0-py2.py3-none-any.whl (10.0 kB)\nInstalling collected packages: xmltodict\nSuccessfully installed xmltodict-0.13.0\n\u001B[43mNote: you may need to restart the kernel using dbutils.library.restartPython() to use updated packages.\u001B[0m\n"
     ]
    }
   ],
   "source": [
    "pip install xmltodict"
   ]
  },
  {
   "cell_type": "code",
   "execution_count": 0,
   "metadata": {
    "application/vnd.databricks.v1+cell": {
     "cellMetadata": {
      "byteLimit": 2048000,
      "rowLimit": 10000
     },
     "inputWidgets": {},
     "nuid": "6432c527-7a6c-4080-b301-2f5bf04d5859",
     "showTitle": false,
     "title": ""
    }
   },
   "outputs": [],
   "source": [
    "\n",
    "from pyspark.sql.functions import *\n",
    "from pyspark.sql.types import *\n"
   ]
  },
  {
   "cell_type": "code",
   "execution_count": 0,
   "metadata": {
    "application/vnd.databricks.v1+cell": {
     "cellMetadata": {
      "byteLimit": 2048000,
      "rowLimit": 10000
     },
     "inputWidgets": {},
     "nuid": "36b7d9aa-9048-46cb-8459-ab2c9b976bcf",
     "showTitle": false,
     "title": ""
    }
   },
   "outputs": [],
   "source": [
    "import requests\n",
    "import xmltodict, json\n",
    "\n",
    "url = \"https://haleconnect.com/ows/services/org.223.870475ac-2fab-454c-a68a-818d7513bf12_wms?SERVICE=WMS&Request=GetCapabilities\"\n",
    "\n",
    "# Fetch XML data from the HTTP link\n",
    "response = requests.get(url)\n",
    "xml_data = response.text\n",
    "xml = xml_data.replace(\"@\",\"\")\n",
    "obj = xmltodict.parse(xml)\n",
    "json_obj = json.dumps(obj)\n",
    "df = spark.read.json(sc.parallelize([json_obj]))\n",
    "df = df.withColumn(\"BoundingBox\", explode_outer(\"WMS_Capabilities.Capability.Layer.BoundingBox\"))\n",
    "df = df.withColumn(\"CRS\", expr(\"concat_ws(', ', WMS_Capabilities.Capability.Layer.CRS)\"))"
   ]
  },
  {
   "cell_type": "code",
   "execution_count": 0,
   "metadata": {
    "application/vnd.databricks.v1+cell": {
     "cellMetadata": {
      "byteLimit": 2048000,
      "rowLimit": 10000
     },
     "inputWidgets": {},
     "nuid": "324e3f52-cb14-4118-bb3a-f45e371bcf89",
     "showTitle": false,
     "title": ""
    }
   },
   "outputs": [],
   "source": [
    "df.createOrReplaceTempView(\"wfs\")"
   ]
  },
  {
   "cell_type": "code",
   "execution_count": 0,
   "metadata": {
    "application/vnd.databricks.v1+cell": {
     "cellMetadata": {
      "byteLimit": 2048000,
      "implicitDf": true,
      "rowLimit": 10000
     },
     "inputWidgets": {},
     "nuid": "44c34e24-b0c9-47e8-96be-6d77a80af97b",
     "showTitle": false,
     "title": ""
    }
   },
   "outputs": [
    {
     "output_type": "display_data",
     "data": {
      "text/html": [
       "<style scoped>\n",
       "  .table-result-container {\n",
       "    max-height: 300px;\n",
       "    overflow: auto;\n",
       "  }\n",
       "  table, th, td {\n",
       "    border: 1px solid black;\n",
       "    border-collapse: collapse;\n",
       "  }\n",
       "  th, td {\n",
       "    padding: 5px;\n",
       "  }\n",
       "  th {\n",
       "    text-align: left;\n",
       "  }\n",
       "</style><div class='table-result-container'><table class='table-result'><thead style='background-color: white'><tr><th>WMS_Capabilities</th></tr></thead><tbody><tr><td>List(0, 1.3.0, http://www.opengis.net/wms, http://www.opengis.net/sld, http://www.w3.org/1999/xlink, http://www.w3.org/2001/XMLSchema-instance, http://www.opengis.net/wms http://schemas.opengis.net/wms/1.3.0/capabilities_1_3_0.xsd http://www.opengis.net/sld http://schemas.opengis.net/sld/1.1.0/sld_capabilities.xsd http://inspire.ec.europa.eu/schemas/inspire_vs/1.0 http://inspire.ec.europa.eu/schemas/inspire_vs/1.0/inspire_vs.xsd http://inspire.ec.europa.eu/schemas/common/1.0 http://inspire.ec.europa.eu/schemas/common/1.0/common.xsd, List(List(List(BLANK, XML, INIMAGE)), List(0, 0, 0, 0, 0, 0, DK INSPIRE EF Monitoring Sites BWD (2019), List(Miljøstyrelsen, List(http://www.mst.dk, simple)), List(List(EPSG:3857, 1686866.69541738, 7910635.69564288, 900443.54615743, 7279106.38227013), List(EPSG:25832, 897556.82145937, 6415207.20538557, 441094.30316865, 6047204.44227010), List(EPSG:3042, 1666868.38195007, 6544210.95127521, 1158601.87204637, 6103794.09706378), List(EPSG:3043, 6463635.40888817, 1283732.84497494, 6059001.26262177, 802892.55140315), List(EPSG:3040, 2416094.17678209, 6804122.87222790, 1858236.13805533, 6295439.35076353), List(EPSG:3041, 2045094.44041692, 6657483.65364532, 1511058.40927656, 6182335.99014114), List(EPSG:31467, 6417337.63667833, 3897785.51415794, 6049184.71522480, 3441140.83462899), List(EPSG:4326, 57.72915652, 15.15338135, 54.57130817, 8.08882200), List(EPSG:3039, 2776937.02731081, 6984807.67048363, 2197768.39301043, 6444176.92245695), List(EPSG:4258, 57.72915652, 15.15338135, 54.57130817, 8.08882200), List(EPSG:3038, 3123897.65398069, 7200068.12568068, 2526826.84969721, 6629775.17966099), List(EPSG:3046, 152065.77993212, 6472028.59443147, -332325.65397879, 6062816.68684891), List(EPSG:3047, -203335.73819027, 6556700.12464566, -714951.98475522, 6111837.95476027), List(EPSG:3044, 6415207.20538557, 897556.82145937, 6047204.44227010, 441094.30316865), List(EPSG:900913, 1686866.69541738, 7910635.69564288, 900443.54615743, 7279106.38227013), List(EPSG:3045, 509915.90693044, 6419564.46733067, 53557.91844350, 6047099.53194065)), List(EPSG:3857, EPSG:25832, EPSG:3042, EPSG:3043, EPSG:3040, EPSG:3041, EPSG:31467, EPSG:4326, EPSG:3039, EPSG:4258, EPSG:3038, EPSG:3046, EPSG:3047, EPSG:3044, EPSG:900913, EPSG:3045), List(15.15338135, 57.72915652, 54.57130817, 8.08882200), List(0, 0, 0, 0, 0, 1, DK INSPIRE EF Monitoring Sites BWD (2019), List(List(EPSG:3857, 1686866.69541738, 7910635.69564288, 900443.54615743, 7279106.38227013), List(EPSG:25832, 897556.82145937, 6415207.20538557, 441094.30316865, 6047204.44227010), List(EPSG:3042, 1666868.38195007, 6544210.95127521, 1158601.87204637, 6103794.09706378), List(EPSG:3043, 6463635.40888817, 1283732.84497494, 6059001.26262177, 802892.55140315), List(EPSG:3040, 2416094.17678209, 6804122.87222790, 1858236.13805533, 6295439.35076353), List(EPSG:3041, 2045094.44041692, 6657483.65364532, 1511058.40927656, 6182335.99014114), List(EPSG:31467, 6417337.63667833, 3897785.51415794, 6049184.71522480, 3441140.83462899), List(EPSG:4326, 57.72915652, 15.15338135, 54.57130817, 8.08882200), List(EPSG:3039, 2776937.02731081, 6984807.67048363, 2197768.39301043, 6444176.92245695), List(EPSG:4258, 57.72915652, 15.15338135, 54.57130817, 8.08882200), List(EPSG:3038, 3123897.65398069, 7200068.12568068, 2526826.84969721, 6629775.17966099), List(EPSG:3046, 152065.77993212, 6472028.59443147, -332325.65397879, 6062816.68684891), List(EPSG:3047, -203335.73819027, 6556700.12464566, -714951.98475522, 6111837.95476027), List(EPSG:3044, 6415207.20538557, 897556.82145937, 6047204.44227010, 441094.30316865), List(EPSG:900913, 1686866.69541738, 7910635.69564288, 900443.54615743, 7279106.38227013), List(EPSG:3045, 509915.90693044, 6419564.46733067, 53557.91844350, 6047099.53194065)), List(EPSG:3857, EPSG:25832, EPSG:3042, EPSG:3043, EPSG:3040, EPSG:3041, EPSG:31467, EPSG:4326, EPSG:3039, EPSG:4258, EPSG:3038, EPSG:3046, EPSG:3047, EPSG:3044, EPSG:900913, EPSG:3045), List(15.15338135, 57.72915652, 54.57130817, 8.08882200), List(https://envi.data.gov.dk/f81a40eb-2f70-405b-b1ea-3714496f9c42_EF.EnvironmentalMonitoringFacilities, Miljøstyrelsen), List(ISO19115:2003, text/xml, List(https://haleconnect.com/services/bsp/org.223.870475ac-2fab-454c-a68a-818d7513bf12/md/dataset/dataset1, simple)), EF.EnvironmentalMonitoringFacilities, List(List(List(81, 32, image/png, List(https://haleconnect.com/ows/services/org.223.870475ac-2fab-454c-a68a-818d7513bf12_wms?request=GetLegendGraphic&version=1.3.0&service=WMS&layer=EF.EnvironmentalMonitoringFacilities&style=EF.EnvironmentalMonitoringFacilities.Default&format=image/png, simple)), EF.EnvironmentalMonitoringFacilities.Default, EF.EnvironmentalMonitoringFacilities.Default), List(List(81, 32, image/png, List(https://haleconnect.com/ows/services/org.223.870475ac-2fab-454c-a68a-818d7513bf12_wms?request=GetLegendGraphic&version=1.3.0&service=WMS&layer=EF.EnvironmentalMonitoringFacilities&style=EF.EnvironmentalMonitoringFacilities.Default&format=image/png, simple)), default, default)), Environmental Monitoring Facilities), DK INSPIRE EF Monitoring Sites BWD (2019)), List(List(List(List(List(List(https://haleconnect.com/ows/services/org.223.870475ac-2fab-454c-a68a-818d7513bf12_wms?, simple)), List(List(https://haleconnect.com/ows/services/org.223.870475ac-2fab-454c-a68a-818d7513bf12_wms, simple)))), text/xml), List(List(List(List(List(https://haleconnect.com/ows/services/org.223.870475ac-2fab-454c-a68a-818d7513bf12_wms?, simple)), List(List(https://haleconnect.com/ows/services/org.223.870475ac-2fab-454c-a68a-818d7513bf12_wms, simple)))), List(text/html, text/plain, text/xml, text/xml; subtype=gml/2.1.2, text/xml; subtype=gml/3.0.1, text/xml; subtype=gml/3.1.1, text/xml; subtype=gml/3.2.1, application/gml+xml; version=2.1, application/gml+xml; version=3.0, application/gml+xml; version=3.1, application/gml+xml; version=3.2, application/vnd.ogc.gml)), List(List(List(List(List(https://haleconnect.com/ows/services/org.223.870475ac-2fab-454c-a68a-818d7513bf12_wms?, simple)), List(List(https://haleconnect.com/ows/services/org.223.870475ac-2fab-454c-a68a-818d7513bf12_wms, simple)))), List(image/png, image/png; subtype=8bit, image/png; mode=8bit, image/gif, image/jpeg, image/tiff, image/x-ms-bmp, image/svg+xml)), List(List(List(List(List(https://haleconnect.com/ows/services/org.223.870475ac-2fab-454c-a68a-818d7513bf12_wms?, simple)))), List(image/png, image/png; subtype=8bit, image/png; mode=8bit, image/gif, image/jpeg, image/tiff, image/x-ms-bmp, image/svg+xml))), List(http://inspire.ec.europa.eu/schemas/common/1.0, http://inspire.ec.europa.eu/schemas/inspire_vs/1.0, http://www.deegree.org/services/metadata, http://www.opengis.net/ows/1.1, List(application/vnd.iso.19139+xml, https://haleconnect.com/services/bsp/org.223.870475ac-2fab-454c-a68a-818d7513bf12/md/service/id_wms), List(eng), List(List(eng))), List(https://schemas.deegree.org/extensions/services/wms/1.3.0, http://www.opengis.net/wms, http://www.w3.org/1999/xlink, http://www.w3.org/2001/XMLSchema-instance, https://schemas.deegree.org/extensions/services/wms/1.3.0 https://schemas.deegree.org/core/3.5/extensions/services/wms/soapwms.xsd, List(List(https://haleconnect.com/ows/services/org.223.870475ac-2fab-454c-a68a-818d7513bf12_wms, simple), List(SOAPVersion, List(1.1, 1.2)), List(List(List(GetCapabilities), List(GetMap), List(GetFeatureInfo)))))), List(DK INSPIRE EF Monitoring Sites BWD (2019) - service, otherRestrictions, List(List(Tolderlundsvej 5, postal, Odense, Denmark, 5000, Odense Kommune), mstmst.dk, List(Miljøstyrelsen, mstmst.dk), null, +45 72 54 40 00), conditions unknown, List(List({\"@vocabulary\":\"http://standards.iso.org/ittf/PubliclyAvailableStandards/ISO_19139_Schemas/resources/codelist/ML_gmxCodelists.xml#MD_KeywordTypeCode\",\"#text\":\"Environmental monitoring facilities\"}, LOPD, INSPIRE, mim2geodatainfo, infoMapAccessService, HVD)), WMS, List(http://www.mst.dk, simple), DK INSPIRE EF Monitoring Sites BWD (2019) - service))</td></tr></tbody></table></div>"
      ]
     },
     "metadata": {
      "application/vnd.databricks.v1+output": {
       "addedWidgets": {},
       "aggData": [],
       "aggError": "",
       "aggOverflow": false,
       "aggSchema": [],
       "aggSeriesLimitReached": false,
       "aggType": "",
       "arguments": {},
       "columnCustomDisplayInfos": {},
       "data": [
        [
         [
          "0",
          "1.3.0",
          "http://www.opengis.net/wms",
          "http://www.opengis.net/sld",
          "http://www.w3.org/1999/xlink",
          "http://www.w3.org/2001/XMLSchema-instance",
          "http://www.opengis.net/wms http://schemas.opengis.net/wms/1.3.0/capabilities_1_3_0.xsd http://www.opengis.net/sld http://schemas.opengis.net/sld/1.1.0/sld_capabilities.xsd http://inspire.ec.europa.eu/schemas/inspire_vs/1.0 http://inspire.ec.europa.eu/schemas/inspire_vs/1.0/inspire_vs.xsd http://inspire.ec.europa.eu/schemas/common/1.0 http://inspire.ec.europa.eu/schemas/common/1.0/common.xsd",
          [
           [
            [
             "BLANK",
             "XML",
             "INIMAGE"
            ]
           ],
           [
            "0",
            "0",
            "0",
            "0",
            "0",
            "0",
            "DK INSPIRE EF Monitoring Sites BWD (2019)",
            [
             "Miljøstyrelsen",
             [
              "http://www.mst.dk",
              "simple"
             ]
            ],
            [
             [
              "EPSG:3857",
              "1686866.69541738",
              "7910635.69564288",
              "900443.54615743",
              "7279106.38227013"
             ],
             [
              "EPSG:25832",
              "897556.82145937",
              "6415207.20538557",
              "441094.30316865",
              "6047204.44227010"
             ],
             [
              "EPSG:3042",
              "1666868.38195007",
              "6544210.95127521",
              "1158601.87204637",
              "6103794.09706378"
             ],
             [
              "EPSG:3043",
              "6463635.40888817",
              "1283732.84497494",
              "6059001.26262177",
              "802892.55140315"
             ],
             [
              "EPSG:3040",
              "2416094.17678209",
              "6804122.87222790",
              "1858236.13805533",
              "6295439.35076353"
             ],
             [
              "EPSG:3041",
              "2045094.44041692",
              "6657483.65364532",
              "1511058.40927656",
              "6182335.99014114"
             ],
             [
              "EPSG:31467",
              "6417337.63667833",
              "3897785.51415794",
              "6049184.71522480",
              "3441140.83462899"
             ],
             [
              "EPSG:4326",
              "57.72915652",
              "15.15338135",
              "54.57130817",
              "8.08882200"
             ],
             [
              "EPSG:3039",
              "2776937.02731081",
              "6984807.67048363",
              "2197768.39301043",
              "6444176.92245695"
             ],
             [
              "EPSG:4258",
              "57.72915652",
              "15.15338135",
              "54.57130817",
              "8.08882200"
             ],
             [
              "EPSG:3038",
              "3123897.65398069",
              "7200068.12568068",
              "2526826.84969721",
              "6629775.17966099"
             ],
             [
              "EPSG:3046",
              "152065.77993212",
              "6472028.59443147",
              "-332325.65397879",
              "6062816.68684891"
             ],
             [
              "EPSG:3047",
              "-203335.73819027",
              "6556700.12464566",
              "-714951.98475522",
              "6111837.95476027"
             ],
             [
              "EPSG:3044",
              "6415207.20538557",
              "897556.82145937",
              "6047204.44227010",
              "441094.30316865"
             ],
             [
              "EPSG:900913",
              "1686866.69541738",
              "7910635.69564288",
              "900443.54615743",
              "7279106.38227013"
             ],
             [
              "EPSG:3045",
              "509915.90693044",
              "6419564.46733067",
              "53557.91844350",
              "6047099.53194065"
             ]
            ],
            [
             "EPSG:3857",
             "EPSG:25832",
             "EPSG:3042",
             "EPSG:3043",
             "EPSG:3040",
             "EPSG:3041",
             "EPSG:31467",
             "EPSG:4326",
             "EPSG:3039",
             "EPSG:4258",
             "EPSG:3038",
             "EPSG:3046",
             "EPSG:3047",
             "EPSG:3044",
             "EPSG:900913",
             "EPSG:3045"
            ],
            [
             "15.15338135",
             "57.72915652",
             "54.57130817",
             "8.08882200"
            ],
            [
             "0",
             "0",
             "0",
             "0",
             "0",
             "1",
             "DK INSPIRE EF Monitoring Sites BWD (2019)",
             [
              [
               "EPSG:3857",
               "1686866.69541738",
               "7910635.69564288",
               "900443.54615743",
               "7279106.38227013"
              ],
              [
               "EPSG:25832",
               "897556.82145937",
               "6415207.20538557",
               "441094.30316865",
               "6047204.44227010"
              ],
              [
               "EPSG:3042",
               "1666868.38195007",
               "6544210.95127521",
               "1158601.87204637",
               "6103794.09706378"
              ],
              [
               "EPSG:3043",
               "6463635.40888817",
               "1283732.84497494",
               "6059001.26262177",
               "802892.55140315"
              ],
              [
               "EPSG:3040",
               "2416094.17678209",
               "6804122.87222790",
               "1858236.13805533",
               "6295439.35076353"
              ],
              [
               "EPSG:3041",
               "2045094.44041692",
               "6657483.65364532",
               "1511058.40927656",
               "6182335.99014114"
              ],
              [
               "EPSG:31467",
               "6417337.63667833",
               "3897785.51415794",
               "6049184.71522480",
               "3441140.83462899"
              ],
              [
               "EPSG:4326",
               "57.72915652",
               "15.15338135",
               "54.57130817",
               "8.08882200"
              ],
              [
               "EPSG:3039",
               "2776937.02731081",
               "6984807.67048363",
               "2197768.39301043",
               "6444176.92245695"
              ],
              [
               "EPSG:4258",
               "57.72915652",
               "15.15338135",
               "54.57130817",
               "8.08882200"
              ],
              [
               "EPSG:3038",
               "3123897.65398069",
               "7200068.12568068",
               "2526826.84969721",
               "6629775.17966099"
              ],
              [
               "EPSG:3046",
               "152065.77993212",
               "6472028.59443147",
               "-332325.65397879",
               "6062816.68684891"
              ],
              [
               "EPSG:3047",
               "-203335.73819027",
               "6556700.12464566",
               "-714951.98475522",
               "6111837.95476027"
              ],
              [
               "EPSG:3044",
               "6415207.20538557",
               "897556.82145937",
               "6047204.44227010",
               "441094.30316865"
              ],
              [
               "EPSG:900913",
               "1686866.69541738",
               "7910635.69564288",
               "900443.54615743",
               "7279106.38227013"
              ],
              [
               "EPSG:3045",
               "509915.90693044",
               "6419564.46733067",
               "53557.91844350",
               "6047099.53194065"
              ]
             ],
             [
              "EPSG:3857",
              "EPSG:25832",
              "EPSG:3042",
              "EPSG:3043",
              "EPSG:3040",
              "EPSG:3041",
              "EPSG:31467",
              "EPSG:4326",
              "EPSG:3039",
              "EPSG:4258",
              "EPSG:3038",
              "EPSG:3046",
              "EPSG:3047",
              "EPSG:3044",
              "EPSG:900913",
              "EPSG:3045"
             ],
             [
              "15.15338135",
              "57.72915652",
              "54.57130817",
              "8.08882200"
             ],
             [
              "https://envi.data.gov.dk/f81a40eb-2f70-405b-b1ea-3714496f9c42_EF.EnvironmentalMonitoringFacilities",
              "Miljøstyrelsen"
             ],
             [
              "ISO19115:2003",
              "text/xml",
              [
               "https://haleconnect.com/services/bsp/org.223.870475ac-2fab-454c-a68a-818d7513bf12/md/dataset/dataset1",
               "simple"
              ]
             ],
             "EF.EnvironmentalMonitoringFacilities",
             [
              [
               [
                "81",
                "32",
                "image/png",
                [
                 "https://haleconnect.com/ows/services/org.223.870475ac-2fab-454c-a68a-818d7513bf12_wms?request=GetLegendGraphic&version=1.3.0&service=WMS&layer=EF.EnvironmentalMonitoringFacilities&style=EF.EnvironmentalMonitoringFacilities.Default&format=image/png",
                 "simple"
                ]
               ],
               "EF.EnvironmentalMonitoringFacilities.Default",
               "EF.EnvironmentalMonitoringFacilities.Default"
              ],
              [
               [
                "81",
                "32",
                "image/png",
                [
                 "https://haleconnect.com/ows/services/org.223.870475ac-2fab-454c-a68a-818d7513bf12_wms?request=GetLegendGraphic&version=1.3.0&service=WMS&layer=EF.EnvironmentalMonitoringFacilities&style=EF.EnvironmentalMonitoringFacilities.Default&format=image/png",
                 "simple"
                ]
               ],
               "default",
               "default"
              ]
             ],
             "Environmental Monitoring Facilities"
            ],
            "DK INSPIRE EF Monitoring Sites BWD (2019)"
           ],
           [
            [
             [
              [
               [
                [
                 "https://haleconnect.com/ows/services/org.223.870475ac-2fab-454c-a68a-818d7513bf12_wms?",
                 "simple"
                ]
               ],
               [
                [
                 "https://haleconnect.com/ows/services/org.223.870475ac-2fab-454c-a68a-818d7513bf12_wms",
                 "simple"
                ]
               ]
              ]
             ],
             "text/xml"
            ],
            [
             [
              [
               [
                [
                 "https://haleconnect.com/ows/services/org.223.870475ac-2fab-454c-a68a-818d7513bf12_wms?",
                 "simple"
                ]
               ],
               [
                [
                 "https://haleconnect.com/ows/services/org.223.870475ac-2fab-454c-a68a-818d7513bf12_wms",
                 "simple"
                ]
               ]
              ]
             ],
             [
              "text/html",
              "text/plain",
              "text/xml",
              "text/xml; subtype=gml/2.1.2",
              "text/xml; subtype=gml/3.0.1",
              "text/xml; subtype=gml/3.1.1",
              "text/xml; subtype=gml/3.2.1",
              "application/gml+xml; version=2.1",
              "application/gml+xml; version=3.0",
              "application/gml+xml; version=3.1",
              "application/gml+xml; version=3.2",
              "application/vnd.ogc.gml"
             ]
            ],
            [
             [
              [
               [
                [
                 "https://haleconnect.com/ows/services/org.223.870475ac-2fab-454c-a68a-818d7513bf12_wms?",
                 "simple"
                ]
               ],
               [
                [
                 "https://haleconnect.com/ows/services/org.223.870475ac-2fab-454c-a68a-818d7513bf12_wms",
                 "simple"
                ]
               ]
              ]
             ],
             [
              "image/png",
              "image/png; subtype=8bit",
              "image/png; mode=8bit",
              "image/gif",
              "image/jpeg",
              "image/tiff",
              "image/x-ms-bmp",
              "image/svg+xml"
             ]
            ],
            [
             [
              [
               [
                [
                 "https://haleconnect.com/ows/services/org.223.870475ac-2fab-454c-a68a-818d7513bf12_wms?",
                 "simple"
                ]
               ]
              ]
             ],
             [
              "image/png",
              "image/png; subtype=8bit",
              "image/png; mode=8bit",
              "image/gif",
              "image/jpeg",
              "image/tiff",
              "image/x-ms-bmp",
              "image/svg+xml"
             ]
            ]
           ],
           [
            "http://inspire.ec.europa.eu/schemas/common/1.0",
            "http://inspire.ec.europa.eu/schemas/inspire_vs/1.0",
            "http://www.deegree.org/services/metadata",
            "http://www.opengis.net/ows/1.1",
            [
             "application/vnd.iso.19139+xml",
             "https://haleconnect.com/services/bsp/org.223.870475ac-2fab-454c-a68a-818d7513bf12/md/service/id_wms"
            ],
            [
             "eng"
            ],
            [
             [
              "eng"
             ]
            ]
           ],
           [
            "https://schemas.deegree.org/extensions/services/wms/1.3.0",
            "http://www.opengis.net/wms",
            "http://www.w3.org/1999/xlink",
            "http://www.w3.org/2001/XMLSchema-instance",
            "https://schemas.deegree.org/extensions/services/wms/1.3.0 https://schemas.deegree.org/core/3.5/extensions/services/wms/soapwms.xsd",
            [
             [
              "https://haleconnect.com/ows/services/org.223.870475ac-2fab-454c-a68a-818d7513bf12_wms",
              "simple"
             ],
             [
              "SOAPVersion",
              [
               "1.1",
               "1.2"
              ]
             ],
             [
              [
               [
                "GetCapabilities"
               ],
               [
                "GetMap"
               ],
               [
                "GetFeatureInfo"
               ]
              ]
             ]
            ]
           ]
          ],
          [
           "DK INSPIRE EF Monitoring Sites BWD (2019) - service",
           "otherRestrictions",
           [
            [
             "Tolderlundsvej 5",
             "postal",
             "Odense",
             "Denmark",
             "5000",
             "Odense Kommune"
            ],
            "mstmst.dk",
            [
             "Miljøstyrelsen",
             "mstmst.dk"
            ],
            null,
            "+45 72 54 40 00"
           ],
           "conditions unknown",
           [
            [
             "{\"@vocabulary\":\"http://standards.iso.org/ittf/PubliclyAvailableStandards/ISO_19139_Schemas/resources/codelist/ML_gmxCodelists.xml#MD_KeywordTypeCode\",\"#text\":\"Environmental monitoring facilities\"}",
             "LOPD",
             "INSPIRE",
             "mim2geodatainfo",
             "infoMapAccessService",
             "HVD"
            ]
           ],
           "WMS",
           [
            "http://www.mst.dk",
            "simple"
           ],
           "DK INSPIRE EF Monitoring Sites BWD (2019) - service"
          ]
         ]
        ]
       ],
       "datasetInfos": [],
       "dbfsResultPath": null,
       "isJsonSchema": true,
       "metadata": {
        "dataframeName": "_sqldf",
        "executionCount": 61
       },
       "overflow": false,
       "plotOptions": {
        "customPlotOptions": {},
        "displayType": "table",
        "pivotAggregation": null,
        "pivotColumns": null,
        "xColumns": null,
        "yColumns": null
       },
       "removedWidgets": [],
       "schema": [
        {
         "metadata": "{}",
         "name": "WMS_Capabilities",
         "type": "{\"type\":\"struct\",\"fields\":[{\"name\":\"@updateSequence\",\"type\":\"string\",\"nullable\":true,\"metadata\":{}},{\"name\":\"@version\",\"type\":\"string\",\"nullable\":true,\"metadata\":{}},{\"name\":\"@xmlns\",\"type\":\"string\",\"nullable\":true,\"metadata\":{}},{\"name\":\"@xmlns:sld\",\"type\":\"string\",\"nullable\":true,\"metadata\":{}},{\"name\":\"@xmlns:xlink\",\"type\":\"string\",\"nullable\":true,\"metadata\":{}},{\"name\":\"@xmlns:xsi\",\"type\":\"string\",\"nullable\":true,\"metadata\":{}},{\"name\":\"@xsi:schemaLocation\",\"type\":\"string\",\"nullable\":true,\"metadata\":{}},{\"name\":\"Capability\",\"type\":{\"type\":\"struct\",\"fields\":[{\"name\":\"Exception\",\"type\":{\"type\":\"struct\",\"fields\":[{\"name\":\"Format\",\"type\":{\"type\":\"array\",\"elementType\":\"string\",\"containsNull\":true},\"nullable\":true,\"metadata\":{}}]},\"nullable\":true,\"metadata\":{}},{\"name\":\"Layer\",\"type\":{\"type\":\"struct\",\"fields\":[{\"name\":\"@cascaded\",\"type\":\"string\",\"nullable\":true,\"metadata\":{}},{\"name\":\"@fixedHeight\",\"type\":\"string\",\"nullable\":true,\"metadata\":{}},{\"name\":\"@fixedWidth\",\"type\":\"string\",\"nullable\":true,\"metadata\":{}},{\"name\":\"@noSubsets\",\"type\":\"string\",\"nullable\":true,\"metadata\":{}},{\"name\":\"@opaque\",\"type\":\"string\",\"nullable\":true,\"metadata\":{}},{\"name\":\"@queryable\",\"type\":\"string\",\"nullable\":true,\"metadata\":{}},{\"name\":\"Abstract\",\"type\":\"string\",\"nullable\":true,\"metadata\":{}},{\"name\":\"AuthorityURL\",\"type\":{\"type\":\"struct\",\"fields\":[{\"name\":\"@name\",\"type\":\"string\",\"nullable\":true,\"metadata\":{}},{\"name\":\"OnlineResource\",\"type\":{\"type\":\"struct\",\"fields\":[{\"name\":\"@xlink:href\",\"type\":\"string\",\"nullable\":true,\"metadata\":{}},{\"name\":\"@xlink:type\",\"type\":\"string\",\"nullable\":true,\"metadata\":{}}]},\"nullable\":true,\"metadata\":{}}]},\"nullable\":true,\"metadata\":{}},{\"name\":\"BoundingBox\",\"type\":{\"type\":\"array\",\"elementType\":{\"type\":\"struct\",\"fields\":[{\"name\":\"@CRS\",\"type\":\"string\",\"nullable\":true,\"metadata\":{}},{\"name\":\"@maxx\",\"type\":\"string\",\"nullable\":true,\"metadata\":{}},{\"name\":\"@maxy\",\"type\":\"string\",\"nullable\":true,\"metadata\":{}},{\"name\":\"@minx\",\"type\":\"string\",\"nullable\":true,\"metadata\":{}},{\"name\":\"@miny\",\"type\":\"string\",\"nullable\":true,\"metadata\":{}}]},\"containsNull\":true},\"nullable\":true,\"metadata\":{}},{\"name\":\"CRS\",\"type\":{\"type\":\"array\",\"elementType\":\"string\",\"containsNull\":true},\"nullable\":true,\"metadata\":{}},{\"name\":\"EX_GeographicBoundingBox\",\"type\":{\"type\":\"struct\",\"fields\":[{\"name\":\"eastBoundLongitude\",\"type\":\"string\",\"nullable\":true,\"metadata\":{}},{\"name\":\"northBoundLatitude\",\"type\":\"string\",\"nullable\":true,\"metadata\":{}},{\"name\":\"southBoundLatitude\",\"type\":\"string\",\"nullable\":true,\"metadata\":{}},{\"name\":\"westBoundLongitude\",\"type\":\"string\",\"nullable\":true,\"metadata\":{}}]},\"nullable\":true,\"metadata\":{}},{\"name\":\"Layer\",\"type\":{\"type\":\"struct\",\"fields\":[{\"name\":\"@cascaded\",\"type\":\"string\",\"nullable\":true,\"metadata\":{}},{\"name\":\"@fixedHeight\",\"type\":\"string\",\"nullable\":true,\"metadata\":{}},{\"name\":\"@fixedWidth\",\"type\":\"string\",\"nullable\":true,\"metadata\":{}},{\"name\":\"@noSubsets\",\"type\":\"string\",\"nullable\":true,\"metadata\":{}},{\"name\":\"@opaque\",\"type\":\"string\",\"nullable\":true,\"metadata\":{}},{\"name\":\"@queryable\",\"type\":\"string\",\"nullable\":true,\"metadata\":{}},{\"name\":\"Abstract\",\"type\":\"string\",\"nullable\":true,\"metadata\":{}},{\"name\":\"BoundingBox\",\"type\":{\"type\":\"array\",\"elementType\":{\"type\":\"struct\",\"fields\":[{\"name\":\"@CRS\",\"type\":\"string\",\"nullable\":true,\"metadata\":{}},{\"name\":\"@maxx\",\"type\":\"string\",\"nullable\":true,\"metadata\":{}},{\"name\":\"@maxy\",\"type\":\"string\",\"nullable\":true,\"metadata\":{}},{\"name\":\"@minx\",\"type\":\"string\",\"nullable\":true,\"metadata\":{}},{\"name\":\"@miny\",\"type\":\"string\",\"nullable\":true,\"metadata\":{}}]},\"containsNull\":true},\"nullable\":true,\"metadata\":{}},{\"name\":\"CRS\",\"type\":{\"type\":\"array\",\"elementType\":\"string\",\"containsNull\":true},\"nullable\":true,\"metadata\":{}},{\"name\":\"EX_GeographicBoundingBox\",\"type\":{\"type\":\"struct\",\"fields\":[{\"name\":\"eastBoundLongitude\",\"type\":\"string\",\"nullable\":true,\"metadata\":{}},{\"name\":\"northBoundLatitude\",\"type\":\"string\",\"nullable\":true,\"metadata\":{}},{\"name\":\"southBoundLatitude\",\"type\":\"string\",\"nullable\":true,\"metadata\":{}},{\"name\":\"westBoundLongitude\",\"type\":\"string\",\"nullable\":true,\"metadata\":{}}]},\"nullable\":true,\"metadata\":{}},{\"name\":\"Identifier\",\"type\":{\"type\":\"struct\",\"fields\":[{\"name\":\"#text\",\"type\":\"string\",\"nullable\":true,\"metadata\":{}},{\"name\":\"@authority\",\"type\":\"string\",\"nullable\":true,\"metadata\":{}}]},\"nullable\":true,\"metadata\":{}},{\"name\":\"MetadataURL\",\"type\":{\"type\":\"struct\",\"fields\":[{\"name\":\"@type\",\"type\":\"string\",\"nullable\":true,\"metadata\":{}},{\"name\":\"Format\",\"type\":\"string\",\"nullable\":true,\"metadata\":{}},{\"name\":\"OnlineResource\",\"type\":{\"type\":\"struct\",\"fields\":[{\"name\":\"@xlink:href\",\"type\":\"string\",\"nullable\":true,\"metadata\":{}},{\"name\":\"@xlink:type\",\"type\":\"string\",\"nullable\":true,\"metadata\":{}}]},\"nullable\":true,\"metadata\":{}}]},\"nullable\":true,\"metadata\":{}},{\"name\":\"Name\",\"type\":\"string\",\"nullable\":true,\"metadata\":{}},{\"name\":\"Style\",\"type\":{\"type\":\"array\",\"elementType\":{\"type\":\"struct\",\"fields\":[{\"name\":\"LegendURL\",\"type\":{\"type\":\"struct\",\"fields\":[{\"name\":\"@height\",\"type\":\"string\",\"nullable\":true,\"metadata\":{}},{\"name\":\"@width\",\"type\":\"string\",\"nullable\":true,\"metadata\":{}},{\"name\":\"Format\",\"type\":\"string\",\"nullable\":true,\"metadata\":{}},{\"name\":\"OnlineResource\",\"type\":{\"type\":\"struct\",\"fields\":[{\"name\":\"@xlink:href\",\"type\":\"string\",\"nullable\":true,\"metadata\":{}},{\"name\":\"@xlink:type\",\"type\":\"string\",\"nullable\":true,\"metadata\":{}}]},\"nullable\":true,\"metadata\":{}}]},\"nullable\":true,\"metadata\":{}},{\"name\":\"Name\",\"type\":\"string\",\"nullable\":true,\"metadata\":{}},{\"name\":\"Title\",\"type\":\"string\",\"nullable\":true,\"metadata\":{}}]},\"containsNull\":true},\"nullable\":true,\"metadata\":{}},{\"name\":\"Title\",\"type\":\"string\",\"nullable\":true,\"metadata\":{}}]},\"nullable\":true,\"metadata\":{}},{\"name\":\"Title\",\"type\":\"string\",\"nullable\":true,\"metadata\":{}}]},\"nullable\":true,\"metadata\":{}},{\"name\":\"Request\",\"type\":{\"type\":\"struct\",\"fields\":[{\"name\":\"GetCapabilities\",\"type\":{\"type\":\"struct\",\"fields\":[{\"name\":\"DCPType\",\"type\":{\"type\":\"struct\",\"fields\":[{\"name\":\"HTTP\",\"type\":{\"type\":\"struct\",\"fields\":[{\"name\":\"Get\",\"type\":{\"type\":\"struct\",\"fields\":[{\"name\":\"OnlineResource\",\"type\":{\"type\":\"struct\",\"fields\":[{\"name\":\"@xlink:href\",\"type\":\"string\",\"nullable\":true,\"metadata\":{}},{\"name\":\"@xlink:type\",\"type\":\"string\",\"nullable\":true,\"metadata\":{}}]},\"nullable\":true,\"metadata\":{}}]},\"nullable\":true,\"metadata\":{}},{\"name\":\"Post\",\"type\":{\"type\":\"struct\",\"fields\":[{\"name\":\"OnlineResource\",\"type\":{\"type\":\"struct\",\"fields\":[{\"name\":\"@xlink:href\",\"type\":\"string\",\"nullable\":true,\"metadata\":{}},{\"name\":\"@xlink:type\",\"type\":\"string\",\"nullable\":true,\"metadata\":{}}]},\"nullable\":true,\"metadata\":{}}]},\"nullable\":true,\"metadata\":{}}]},\"nullable\":true,\"metadata\":{}}]},\"nullable\":true,\"metadata\":{}},{\"name\":\"Format\",\"type\":\"string\",\"nullable\":true,\"metadata\":{}}]},\"nullable\":true,\"metadata\":{}},{\"name\":\"GetFeatureInfo\",\"type\":{\"type\":\"struct\",\"fields\":[{\"name\":\"DCPType\",\"type\":{\"type\":\"struct\",\"fields\":[{\"name\":\"HTTP\",\"type\":{\"type\":\"struct\",\"fields\":[{\"name\":\"Get\",\"type\":{\"type\":\"struct\",\"fields\":[{\"name\":\"OnlineResource\",\"type\":{\"type\":\"struct\",\"fields\":[{\"name\":\"@xlink:href\",\"type\":\"string\",\"nullable\":true,\"metadata\":{}},{\"name\":\"@xlink:type\",\"type\":\"string\",\"nullable\":true,\"metadata\":{}}]},\"nullable\":true,\"metadata\":{}}]},\"nullable\":true,\"metadata\":{}},{\"name\":\"Post\",\"type\":{\"type\":\"struct\",\"fields\":[{\"name\":\"OnlineResource\",\"type\":{\"type\":\"struct\",\"fields\":[{\"name\":\"@xlink:href\",\"type\":\"string\",\"nullable\":true,\"metadata\":{}},{\"name\":\"@xlink:type\",\"type\":\"string\",\"nullable\":true,\"metadata\":{}}]},\"nullable\":true,\"metadata\":{}}]},\"nullable\":true,\"metadata\":{}}]},\"nullable\":true,\"metadata\":{}}]},\"nullable\":true,\"metadata\":{}},{\"name\":\"Format\",\"type\":{\"type\":\"array\",\"elementType\":\"string\",\"containsNull\":true},\"nullable\":true,\"metadata\":{}}]},\"nullable\":true,\"metadata\":{}},{\"name\":\"GetMap\",\"type\":{\"type\":\"struct\",\"fields\":[{\"name\":\"DCPType\",\"type\":{\"type\":\"struct\",\"fields\":[{\"name\":\"HTTP\",\"type\":{\"type\":\"struct\",\"fields\":[{\"name\":\"Get\",\"type\":{\"type\":\"struct\",\"fields\":[{\"name\":\"OnlineResource\",\"type\":{\"type\":\"struct\",\"fields\":[{\"name\":\"@xlink:href\",\"type\":\"string\",\"nullable\":true,\"metadata\":{}},{\"name\":\"@xlink:type\",\"type\":\"string\",\"nullable\":true,\"metadata\":{}}]},\"nullable\":true,\"metadata\":{}}]},\"nullable\":true,\"metadata\":{}},{\"name\":\"Post\",\"type\":{\"type\":\"struct\",\"fields\":[{\"name\":\"OnlineResource\",\"type\":{\"type\":\"struct\",\"fields\":[{\"name\":\"@xlink:href\",\"type\":\"string\",\"nullable\":true,\"metadata\":{}},{\"name\":\"@xlink:type\",\"type\":\"string\",\"nullable\":true,\"metadata\":{}}]},\"nullable\":true,\"metadata\":{}}]},\"nullable\":true,\"metadata\":{}}]},\"nullable\":true,\"metadata\":{}}]},\"nullable\":true,\"metadata\":{}},{\"name\":\"Format\",\"type\":{\"type\":\"array\",\"elementType\":\"string\",\"containsNull\":true},\"nullable\":true,\"metadata\":{}}]},\"nullable\":true,\"metadata\":{}},{\"name\":\"sld:GetLegendGraphic\",\"type\":{\"type\":\"struct\",\"fields\":[{\"name\":\"DCPType\",\"type\":{\"type\":\"struct\",\"fields\":[{\"name\":\"HTTP\",\"type\":{\"type\":\"struct\",\"fields\":[{\"name\":\"Get\",\"type\":{\"type\":\"struct\",\"fields\":[{\"name\":\"OnlineResource\",\"type\":{\"type\":\"struct\",\"fields\":[{\"name\":\"@xlink:href\",\"type\":\"string\",\"nullable\":true,\"metadata\":{}},{\"name\":\"@xlink:type\",\"type\":\"string\",\"nullable\":true,\"metadata\":{}}]},\"nullable\":true,\"metadata\":{}}]},\"nullable\":true,\"metadata\":{}}]},\"nullable\":true,\"metadata\":{}}]},\"nullable\":true,\"metadata\":{}},{\"name\":\"Format\",\"type\":{\"type\":\"array\",\"elementType\":\"string\",\"containsNull\":true},\"nullable\":true,\"metadata\":{}}]},\"nullable\":true,\"metadata\":{}}]},\"nullable\":true,\"metadata\":{}},{\"name\":\"inspire_vs:ExtendedCapabilities\",\"type\":{\"type\":\"struct\",\"fields\":[{\"name\":\"@xmlns:inspire_common\",\"type\":\"string\",\"nullable\":true,\"metadata\":{}},{\"name\":\"@xmlns:inspire_vs\",\"type\":\"string\",\"nullable\":true,\"metadata\":{}},{\"name\":\"@xmlns:metadata\",\"type\":\"string\",\"nullable\":true,\"metadata\":{}},{\"name\":\"@xmlns:ows11\",\"type\":\"string\",\"nullable\":true,\"metadata\":{}},{\"name\":\"inspire_common:MetadataUrl\",\"type\":{\"type\":\"struct\",\"fields\":[{\"name\":\"inspire_common:MediaType\",\"type\":\"string\",\"nullable\":true,\"metadata\":{}},{\"name\":\"inspire_common:URL\",\"type\":\"string\",\"nullable\":true,\"metadata\":{}}]},\"nullable\":true,\"metadata\":{}},{\"name\":\"inspire_common:ResponseLanguage\",\"type\":{\"type\":\"struct\",\"fields\":[{\"name\":\"inspire_common:Language\",\"type\":\"string\",\"nullable\":true,\"metadata\":{}}]},\"nullable\":true,\"metadata\":{}},{\"name\":\"inspire_common:SupportedLanguages\",\"type\":{\"type\":\"struct\",\"fields\":[{\"name\":\"inspire_common:DefaultLanguage\",\"type\":{\"type\":\"struct\",\"fields\":[{\"name\":\"inspire_common:Language\",\"type\":\"string\",\"nullable\":true,\"metadata\":{}}]},\"nullable\":true,\"metadata\":{}}]},\"nullable\":true,\"metadata\":{}}]},\"nullable\":true,\"metadata\":{}},{\"name\":\"soapwms:ExtendedCapabilities\",\"type\":{\"type\":\"struct\",\"fields\":[{\"name\":\"@xmlns:soapwms\",\"type\":\"string\",\"nullable\":true,\"metadata\":{}},{\"name\":\"@xmlns:wms\",\"type\":\"string\",\"nullable\":true,\"metadata\":{}},{\"name\":\"@xmlns:xlink\",\"type\":\"string\",\"nullable\":true,\"metadata\":{}},{\"name\":\"@xmlns:xsi\",\"type\":\"string\",\"nullable\":true,\"metadata\":{}},{\"name\":\"@xsi:schemaLocation\",\"type\":\"string\",\"nullable\":true,\"metadata\":{}},{\"name\":\"soapwms:SOAP\",\"type\":{\"type\":\"struct\",\"fields\":[{\"name\":\"OnlineResource\",\"type\":{\"type\":\"struct\",\"fields\":[{\"name\":\"@xlink:href\",\"type\":\"string\",\"nullable\":true,\"metadata\":{}},{\"name\":\"@xlink:type\",\"type\":\"string\",\"nullable\":true,\"metadata\":{}}]},\"nullable\":true,\"metadata\":{}},{\"name\":\"soapwms:Constraint\",\"type\":{\"type\":\"struct\",\"fields\":[{\"name\":\"@name\",\"type\":\"string\",\"nullable\":true,\"metadata\":{}},{\"name\":\"soapwms:Value\",\"type\":{\"type\":\"array\",\"elementType\":\"string\",\"containsNull\":true},\"nullable\":true,\"metadata\":{}}]},\"nullable\":true,\"metadata\":{}},{\"name\":\"soapwms:SupportedOperations\",\"type\":{\"type\":\"struct\",\"fields\":[{\"name\":\"soapwms:Operation\",\"type\":{\"type\":\"array\",\"elementType\":{\"type\":\"struct\",\"fields\":[{\"name\":\"@name\",\"type\":\"string\",\"nullable\":true,\"metadata\":{}}]},\"containsNull\":true},\"nullable\":true,\"metadata\":{}}]},\"nullable\":true,\"metadata\":{}}]},\"nullable\":true,\"metadata\":{}}]},\"nullable\":true,\"metadata\":{}}]},\"nullable\":true,\"metadata\":{}},{\"name\":\"Service\",\"type\":{\"type\":\"struct\",\"fields\":[{\"name\":\"Abstract\",\"type\":\"string\",\"nullable\":true,\"metadata\":{}},{\"name\":\"AccessConstraints\",\"type\":\"string\",\"nullable\":true,\"metadata\":{}},{\"name\":\"ContactInformation\",\"type\":{\"type\":\"struct\",\"fields\":[{\"name\":\"ContactAddress\",\"type\":{\"type\":\"struct\",\"fields\":[{\"name\":\"Address\",\"type\":\"string\",\"nullable\":true,\"metadata\":{}},{\"name\":\"AddressType\",\"type\":\"string\",\"nullable\":true,\"metadata\":{}},{\"name\":\"City\",\"type\":\"string\",\"nullable\":true,\"metadata\":{}},{\"name\":\"Country\",\"type\":\"string\",\"nullable\":true,\"metadata\":{}},{\"name\":\"PostCode\",\"type\":\"string\",\"nullable\":true,\"metadata\":{}},{\"name\":\"StateOrProvince\",\"type\":\"string\",\"nullable\":true,\"metadata\":{}}]},\"nullable\":true,\"metadata\":{}},{\"name\":\"ContactElectronicMailAddress\",\"type\":\"string\",\"nullable\":true,\"metadata\":{}},{\"name\":\"ContactPersonPrimary\",\"type\":{\"type\":\"struct\",\"fields\":[{\"name\":\"ContactOrganization\",\"type\":\"string\",\"nullable\":true,\"metadata\":{}},{\"name\":\"ContactPerson\",\"type\":\"string\",\"nullable\":true,\"metadata\":{}}]},\"nullable\":true,\"metadata\":{}},{\"name\":\"ContactPosition\",\"type\":\"string\",\"nullable\":true,\"metadata\":{}},{\"name\":\"ContactVoiceTelephone\",\"type\":\"string\",\"nullable\":true,\"metadata\":{}}]},\"nullable\":true,\"metadata\":{}},{\"name\":\"Fees\",\"type\":\"string\",\"nullable\":true,\"metadata\":{}},{\"name\":\"KeywordList\",\"type\":{\"type\":\"struct\",\"fields\":[{\"name\":\"Keyword\",\"type\":{\"type\":\"array\",\"elementType\":\"string\",\"containsNull\":true},\"nullable\":true,\"metadata\":{}}]},\"nullable\":true,\"metadata\":{}},{\"name\":\"Name\",\"type\":\"string\",\"nullable\":true,\"metadata\":{}},{\"name\":\"OnlineResource\",\"type\":{\"type\":\"struct\",\"fields\":[{\"name\":\"@xlink:href\",\"type\":\"string\",\"nullable\":true,\"metadata\":{}},{\"name\":\"@xlink:type\",\"type\":\"string\",\"nullable\":true,\"metadata\":{}}]},\"nullable\":true,\"metadata\":{}},{\"name\":\"Title\",\"type\":\"string\",\"nullable\":true,\"metadata\":{}}]},\"nullable\":true,\"metadata\":{}}]}"
        }
       ],
       "type": "table"
      }
     },
     "output_type": "display_data"
    }
   ],
   "source": [
    "%sql \n",
    "select * from wfs"
   ]
  },
  {
   "cell_type": "code",
   "execution_count": 0,
   "metadata": {
    "application/vnd.databricks.v1+cell": {
     "cellMetadata": {
      "byteLimit": 2048000,
      "implicitDf": true,
      "rowLimit": 10000
     },
     "inputWidgets": {},
     "nuid": "fddfd8ad-f557-449c-86cf-6dc375ed51b1",
     "showTitle": false,
     "title": ""
    }
   },
   "outputs": [
    {
     "output_type": "display_data",
     "data": {
      "text/html": [
       "<style scoped>\n",
       "  .table-result-container {\n",
       "    max-height: 300px;\n",
       "    overflow: auto;\n",
       "  }\n",
       "  table, th, td {\n",
       "    border: 1px solid black;\n",
       "    border-collapse: collapse;\n",
       "  }\n",
       "  th, td {\n",
       "    padding: 5px;\n",
       "  }\n",
       "  th {\n",
       "    text-align: left;\n",
       "  }\n",
       "</style><div class='table-result-container'><table class='table-result'><thead style='background-color: white'><tr><th>Abstract</th><th>Name</th><th>CoordintaeReferenceCode</th><th>maxX</th><th>maxY</th><th>minX</th><th>minY</th><th>eastBoundLongitude</th><th>northBoundLatitude</th><th>southBoundLatitude</th><th>westBoundLongitude</th></tr></thead><tbody><tr><td>DK INSPIRE EF Monitoring Sites BWD (2019)</td><td>Miljøstyrelsen</td><td>EPSG:3857</td><td>1686866.69541738</td><td>7910635.69564288</td><td>900443.54615743</td><td>7279106.38227013</td><td>15.15338135</td><td>57.72915652</td><td>54.57130817</td><td>8.08882200</td></tr><tr><td>DK INSPIRE EF Monitoring Sites BWD (2019)</td><td>Miljøstyrelsen</td><td>EPSG:25832</td><td>897556.82145937</td><td>6415207.20538557</td><td>441094.30316865</td><td>6047204.44227010</td><td>15.15338135</td><td>57.72915652</td><td>54.57130817</td><td>8.08882200</td></tr><tr><td>DK INSPIRE EF Monitoring Sites BWD (2019)</td><td>Miljøstyrelsen</td><td>EPSG:3042</td><td>1666868.38195007</td><td>6544210.95127521</td><td>1158601.87204637</td><td>6103794.09706378</td><td>15.15338135</td><td>57.72915652</td><td>54.57130817</td><td>8.08882200</td></tr><tr><td>DK INSPIRE EF Monitoring Sites BWD (2019)</td><td>Miljøstyrelsen</td><td>EPSG:3043</td><td>6463635.40888817</td><td>1283732.84497494</td><td>6059001.26262177</td><td>802892.55140315</td><td>15.15338135</td><td>57.72915652</td><td>54.57130817</td><td>8.08882200</td></tr><tr><td>DK INSPIRE EF Monitoring Sites BWD (2019)</td><td>Miljøstyrelsen</td><td>EPSG:3040</td><td>2416094.17678209</td><td>6804122.87222790</td><td>1858236.13805533</td><td>6295439.35076353</td><td>15.15338135</td><td>57.72915652</td><td>54.57130817</td><td>8.08882200</td></tr><tr><td>DK INSPIRE EF Monitoring Sites BWD (2019)</td><td>Miljøstyrelsen</td><td>EPSG:3041</td><td>2045094.44041692</td><td>6657483.65364532</td><td>1511058.40927656</td><td>6182335.99014114</td><td>15.15338135</td><td>57.72915652</td><td>54.57130817</td><td>8.08882200</td></tr><tr><td>DK INSPIRE EF Monitoring Sites BWD (2019)</td><td>Miljøstyrelsen</td><td>EPSG:31467</td><td>6417337.63667833</td><td>3897785.51415794</td><td>6049184.71522480</td><td>3441140.83462899</td><td>15.15338135</td><td>57.72915652</td><td>54.57130817</td><td>8.08882200</td></tr><tr><td>DK INSPIRE EF Monitoring Sites BWD (2019)</td><td>Miljøstyrelsen</td><td>EPSG:4326</td><td>57.72915652</td><td>15.15338135</td><td>54.57130817</td><td>8.08882200</td><td>15.15338135</td><td>57.72915652</td><td>54.57130817</td><td>8.08882200</td></tr><tr><td>DK INSPIRE EF Monitoring Sites BWD (2019)</td><td>Miljøstyrelsen</td><td>EPSG:3039</td><td>2776937.02731081</td><td>6984807.67048363</td><td>2197768.39301043</td><td>6444176.92245695</td><td>15.15338135</td><td>57.72915652</td><td>54.57130817</td><td>8.08882200</td></tr><tr><td>DK INSPIRE EF Monitoring Sites BWD (2019)</td><td>Miljøstyrelsen</td><td>EPSG:4258</td><td>57.72915652</td><td>15.15338135</td><td>54.57130817</td><td>8.08882200</td><td>15.15338135</td><td>57.72915652</td><td>54.57130817</td><td>8.08882200</td></tr><tr><td>DK INSPIRE EF Monitoring Sites BWD (2019)</td><td>Miljøstyrelsen</td><td>EPSG:3038</td><td>3123897.65398069</td><td>7200068.12568068</td><td>2526826.84969721</td><td>6629775.17966099</td><td>15.15338135</td><td>57.72915652</td><td>54.57130817</td><td>8.08882200</td></tr><tr><td>DK INSPIRE EF Monitoring Sites BWD (2019)</td><td>Miljøstyrelsen</td><td>EPSG:3046</td><td>152065.77993212</td><td>6472028.59443147</td><td>-332325.65397879</td><td>6062816.68684891</td><td>15.15338135</td><td>57.72915652</td><td>54.57130817</td><td>8.08882200</td></tr><tr><td>DK INSPIRE EF Monitoring Sites BWD (2019)</td><td>Miljøstyrelsen</td><td>EPSG:3047</td><td>-203335.73819027</td><td>6556700.12464566</td><td>-714951.98475522</td><td>6111837.95476027</td><td>15.15338135</td><td>57.72915652</td><td>54.57130817</td><td>8.08882200</td></tr><tr><td>DK INSPIRE EF Monitoring Sites BWD (2019)</td><td>Miljøstyrelsen</td><td>EPSG:3044</td><td>6415207.20538557</td><td>897556.82145937</td><td>6047204.44227010</td><td>441094.30316865</td><td>15.15338135</td><td>57.72915652</td><td>54.57130817</td><td>8.08882200</td></tr><tr><td>DK INSPIRE EF Monitoring Sites BWD (2019)</td><td>Miljøstyrelsen</td><td>EPSG:900913</td><td>1686866.69541738</td><td>7910635.69564288</td><td>900443.54615743</td><td>7279106.38227013</td><td>15.15338135</td><td>57.72915652</td><td>54.57130817</td><td>8.08882200</td></tr><tr><td>DK INSPIRE EF Monitoring Sites BWD (2019)</td><td>Miljøstyrelsen</td><td>EPSG:3045</td><td>509915.90693044</td><td>6419564.46733067</td><td>53557.91844350</td><td>6047099.53194065</td><td>15.15338135</td><td>57.72915652</td><td>54.57130817</td><td>8.08882200</td></tr></tbody></table></div>"
      ]
     },
     "metadata": {
      "application/vnd.databricks.v1+output": {
       "addedWidgets": {},
       "aggData": [],
       "aggError": "",
       "aggOverflow": false,
       "aggSchema": [],
       "aggSeriesLimitReached": false,
       "aggType": "",
       "arguments": {},
       "columnCustomDisplayInfos": {},
       "data": [
        [
         "DK INSPIRE EF Monitoring Sites BWD (2019)",
         "Miljøstyrelsen",
         "EPSG:3857",
         "1686866.69541738",
         "7910635.69564288",
         "900443.54615743",
         "7279106.38227013",
         "15.15338135",
         "57.72915652",
         "54.57130817",
         "8.08882200"
        ],
        [
         "DK INSPIRE EF Monitoring Sites BWD (2019)",
         "Miljøstyrelsen",
         "EPSG:25832",
         "897556.82145937",
         "6415207.20538557",
         "441094.30316865",
         "6047204.44227010",
         "15.15338135",
         "57.72915652",
         "54.57130817",
         "8.08882200"
        ],
        [
         "DK INSPIRE EF Monitoring Sites BWD (2019)",
         "Miljøstyrelsen",
         "EPSG:3042",
         "1666868.38195007",
         "6544210.95127521",
         "1158601.87204637",
         "6103794.09706378",
         "15.15338135",
         "57.72915652",
         "54.57130817",
         "8.08882200"
        ],
        [
         "DK INSPIRE EF Monitoring Sites BWD (2019)",
         "Miljøstyrelsen",
         "EPSG:3043",
         "6463635.40888817",
         "1283732.84497494",
         "6059001.26262177",
         "802892.55140315",
         "15.15338135",
         "57.72915652",
         "54.57130817",
         "8.08882200"
        ],
        [
         "DK INSPIRE EF Monitoring Sites BWD (2019)",
         "Miljøstyrelsen",
         "EPSG:3040",
         "2416094.17678209",
         "6804122.87222790",
         "1858236.13805533",
         "6295439.35076353",
         "15.15338135",
         "57.72915652",
         "54.57130817",
         "8.08882200"
        ],
        [
         "DK INSPIRE EF Monitoring Sites BWD (2019)",
         "Miljøstyrelsen",
         "EPSG:3041",
         "2045094.44041692",
         "6657483.65364532",
         "1511058.40927656",
         "6182335.99014114",
         "15.15338135",
         "57.72915652",
         "54.57130817",
         "8.08882200"
        ],
        [
         "DK INSPIRE EF Monitoring Sites BWD (2019)",
         "Miljøstyrelsen",
         "EPSG:31467",
         "6417337.63667833",
         "3897785.51415794",
         "6049184.71522480",
         "3441140.83462899",
         "15.15338135",
         "57.72915652",
         "54.57130817",
         "8.08882200"
        ],
        [
         "DK INSPIRE EF Monitoring Sites BWD (2019)",
         "Miljøstyrelsen",
         "EPSG:4326",
         "57.72915652",
         "15.15338135",
         "54.57130817",
         "8.08882200",
         "15.15338135",
         "57.72915652",
         "54.57130817",
         "8.08882200"
        ],
        [
         "DK INSPIRE EF Monitoring Sites BWD (2019)",
         "Miljøstyrelsen",
         "EPSG:3039",
         "2776937.02731081",
         "6984807.67048363",
         "2197768.39301043",
         "6444176.92245695",
         "15.15338135",
         "57.72915652",
         "54.57130817",
         "8.08882200"
        ],
        [
         "DK INSPIRE EF Monitoring Sites BWD (2019)",
         "Miljøstyrelsen",
         "EPSG:4258",
         "57.72915652",
         "15.15338135",
         "54.57130817",
         "8.08882200",
         "15.15338135",
         "57.72915652",
         "54.57130817",
         "8.08882200"
        ],
        [
         "DK INSPIRE EF Monitoring Sites BWD (2019)",
         "Miljøstyrelsen",
         "EPSG:3038",
         "3123897.65398069",
         "7200068.12568068",
         "2526826.84969721",
         "6629775.17966099",
         "15.15338135",
         "57.72915652",
         "54.57130817",
         "8.08882200"
        ],
        [
         "DK INSPIRE EF Monitoring Sites BWD (2019)",
         "Miljøstyrelsen",
         "EPSG:3046",
         "152065.77993212",
         "6472028.59443147",
         "-332325.65397879",
         "6062816.68684891",
         "15.15338135",
         "57.72915652",
         "54.57130817",
         "8.08882200"
        ],
        [
         "DK INSPIRE EF Monitoring Sites BWD (2019)",
         "Miljøstyrelsen",
         "EPSG:3047",
         "-203335.73819027",
         "6556700.12464566",
         "-714951.98475522",
         "6111837.95476027",
         "15.15338135",
         "57.72915652",
         "54.57130817",
         "8.08882200"
        ],
        [
         "DK INSPIRE EF Monitoring Sites BWD (2019)",
         "Miljøstyrelsen",
         "EPSG:3044",
         "6415207.20538557",
         "897556.82145937",
         "6047204.44227010",
         "441094.30316865",
         "15.15338135",
         "57.72915652",
         "54.57130817",
         "8.08882200"
        ],
        [
         "DK INSPIRE EF Monitoring Sites BWD (2019)",
         "Miljøstyrelsen",
         "EPSG:900913",
         "1686866.69541738",
         "7910635.69564288",
         "900443.54615743",
         "7279106.38227013",
         "15.15338135",
         "57.72915652",
         "54.57130817",
         "8.08882200"
        ],
        [
         "DK INSPIRE EF Monitoring Sites BWD (2019)",
         "Miljøstyrelsen",
         "EPSG:3045",
         "509915.90693044",
         "6419564.46733067",
         "53557.91844350",
         "6047099.53194065",
         "15.15338135",
         "57.72915652",
         "54.57130817",
         "8.08882200"
        ]
       ],
       "datasetInfos": [],
       "dbfsResultPath": null,
       "isJsonSchema": true,
       "metadata": {
        "dataframeName": "_sqldf",
        "executionCount": 77
       },
       "overflow": false,
       "plotOptions": {
        "customPlotOptions": {},
        "displayType": "table",
        "pivotAggregation": null,
        "pivotColumns": null,
        "xColumns": null,
        "yColumns": null
       },
       "removedWidgets": [],
       "schema": [
        {
         "metadata": "{}",
         "name": "Abstract",
         "type": "\"string\""
        },
        {
         "metadata": "{}",
         "name": "Name",
         "type": "\"string\""
        },
        {
         "metadata": "{}",
         "name": "CoordintaeReferenceCode",
         "type": "\"string\""
        },
        {
         "metadata": "{}",
         "name": "maxX",
         "type": "\"string\""
        },
        {
         "metadata": "{}",
         "name": "maxY",
         "type": "\"string\""
        },
        {
         "metadata": "{}",
         "name": "minX",
         "type": "\"string\""
        },
        {
         "metadata": "{}",
         "name": "minY",
         "type": "\"string\""
        },
        {
         "metadata": "{}",
         "name": "eastBoundLongitude",
         "type": "\"string\""
        },
        {
         "metadata": "{}",
         "name": "northBoundLatitude",
         "type": "\"string\""
        },
        {
         "metadata": "{}",
         "name": "southBoundLatitude",
         "type": "\"string\""
        },
        {
         "metadata": "{}",
         "name": "westBoundLongitude",
         "type": "\"string\""
        }
       ],
       "type": "table"
      }
     },
     "output_type": "display_data"
    }
   ],
   "source": [
    "%sql\n",
    "SELECT \n",
    "WMS_Capabilities.Capability.Layer.Abstract, \n",
    "WMS_Capabilities.Capability.Layer.AuthorityURL.`@name` as Name, \n",
    "BoundingBox.`@CRS` as CoordintaeReferenceCode,\n",
    "BoundingBox.`@maxx` as maxX,\n",
    "BoundingBox.`@maxy` as maxY,\n",
    "BoundingBox.`@minx` as minX,\n",
    "BoundingBox.`@miny` as minY,\n",
    "WMS_Capabilities.Capability.Layer.EX_GeographicBoundingBox.eastBoundLongitude,\n",
    "WMS_Capabilities.Capability.Layer.EX_GeographicBoundingBox.northBoundLatitude,\n",
    "WMS_Capabilities.Capability.Layer.EX_GeographicBoundingBox.southBoundLatitude,\n",
    "WMS_Capabilities.Capability.Layer.EX_GeographicBoundingBox.westBoundLongitude\n",
    "FROM wfs"
   ]
  },
  {
   "cell_type": "code",
   "execution_count": 0,
   "metadata": {
    "application/vnd.databricks.v1+cell": {
     "cellMetadata": {
      "byteLimit": 2048000,
      "implicitDf": true,
      "rowLimit": 10000
     },
     "inputWidgets": {},
     "nuid": "b79a4f0e-0185-4a39-a49c-28f7fafb099a",
     "showTitle": false,
     "title": ""
    }
   },
   "outputs": [],
   "source": [
    "spark.sql(\"\"\"SELECT \n",
    "WMS_Capabilities.Capability.Layer.Abstract, \n",
    "WMS_Capabilities.Capability.Layer.AuthorityURL.`@name` as Name, \n",
    "BoundingBox.`@CRS` as CoordintaeReferenceCode,\n",
    "BoundingBox.`@maxx` as maxX,\n",
    "BoundingBox.`@maxy` as maxY,\n",
    "BoundingBox.`@minx` as minX,\n",
    "BoundingBox.`@miny` as minY,\n",
    "WMS_Capabilities.Capability.Layer.EX_GeographicBoundingBox.eastBoundLongitude,\n",
    "WMS_Capabilities.Capability.Layer.EX_GeographicBoundingBox.northBoundLatitude,\n",
    "WMS_Capabilities.Capability.Layer.EX_GeographicBoundingBox.southBoundLatitude,\n",
    "WMS_Capabilities.Capability.Layer.EX_GeographicBoundingBox.westBoundLongitude\n",
    "FROM wfs\"\"\").write.mode(\"overwrite\").format(\"delta\").save(\"/mnt/geoData/DenmarkMonitoringSites\")"
   ]
  }
 ],
 "metadata": {
  "application/vnd.databricks.v1+notebook": {
   "dashboards": [],
   "language": "python",
   "notebookMetadata": {
    "mostRecentlyExecutedCommandWithImplicitDF": {
     "commandId": -1,
     "dataframes": [
      "_sqldf"
     ]
    },
    "pythonIndentUnit": 4
   },
   "notebookName": "DK Monitoring Sites",
   "widgets": {}
  }
 },
 "nbformat": 4,
 "nbformat_minor": 0
}
